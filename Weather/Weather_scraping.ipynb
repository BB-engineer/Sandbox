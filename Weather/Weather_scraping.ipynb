{
 "cells": [
  {
   "cell_type": "code",
   "execution_count": null,
   "metadata": {},
   "outputs": [],
   "source": [
    "import pandas as pd\n",
    "import datetime\n",
    "from dateutil.relativedelta import relativedelta\n",
    "import urllib.request\n",
    "from bs4 import BeautifulSoup"
   ]
  },
  {
   "cell_type": "code",
   "execution_count": null,
   "metadata": {},
   "outputs": [],
   "source": [
    "obs_stations = pd.read_excel(\"obs_stations.xlsx\")\n",
    "obs_stations = obs_stations.query('ed_y == 9999')\n",
    "obs_stations = obs_stations.query('気温 == \"Y\"')"
   ]
  },
  {
   "cell_type": "code",
   "execution_count": null,
   "metadata": {},
   "outputs": [],
   "source": [
    "start_date = datetime.date(2020, 1, 1)\n",
    "end_date   = datetime.date(2020, 12, 31)"
   ]
  },
  {
   "cell_type": "code",
   "execution_count": null,
   "metadata": {},
   "outputs": [],
   "source": [
    "Temp_data = pd.DataFrame(index=[], columns=['降水量','降雪量','積雪量','平均気温','最高気温','最低気温','平均風速'])\n",
    "\n",
    "date = start_date\n",
    "while date < end_date:\n",
    "    Temp_data.loc[date] = -100.0\n",
    "    date += relativedelta(days=1)\n",
    "\n",
    "def str2float(weather_data):\n",
    "    try:\n",
    "        return float(weather_data)\n",
    "    except:\n",
    "        return -100\n",
    "\n",
    "for i in obs_stations.index:\n",
    "    Temp_data_s = Temp_data.copy()\n",
    "\n",
    "    url_y = \"https://www.data.jma.go.jp/obd/stats/etrn/view/annually_%s.php?\" \\\n",
    "            \"prec_no=%d&block_no=%04d&year=&month=&day=&view=\" \\\n",
    "                %(str.lower(obs_stations['区分'].loc[i]), obs_stations['府県番号'].loc[i], obs_stations['地点コード'].loc[i])\n",
    "\n",
    "    html = urllib.request.urlopen(url_y).read()\n",
    "    soup = BeautifulSoup(html)\n",
    "    trs = soup.find(\"table\", { \"class\" : \"data2_s\" })\n",
    "\n",
    "    if trs is None:\n",
    "        continue\n",
    "    \n",
    "    tr = trs.findAll('tr')[3]\n",
    "    tds = tr.findAll('td')[0].findAll('div')[0].findAll('a')\n",
    "\n",
    "    date = start_date\n",
    "    # date = datetime.date(max(int(tds[0].string),1872), 1, 1)\n",
    "    while date < end_date:\n",
    "        url_m = \"https://www.data.jma.go.jp/obd/stats/etrn/view/daily_%s1.php?\" \\\n",
    "                \"prec_no=%s&block_no=%04d&year=%d&month=%d&day=&view=\" \\\n",
    "                    %(str.lower(obs_stations['区分'].loc[i]), obs_stations['府県番号'].loc[i], obs_stations['地点コード'].loc[i], date.year, date.month)\n",
    "\n",
    "        html = urllib.request.urlopen(url_m).read()\n",
    "        soup = BeautifulSoup(html)\n",
    "        trs = soup.find(\"table\", { \"class\" : \"data2_s\" })\n",
    "\n",
    "        if trs is None:\n",
    "            print(f\"\\r{obs_stations['地点'].loc[i]}\", end=\"\")\n",
    "            date += relativedelta(months=1)\n",
    "            continue\n",
    "\n",
    "        # table の中身を取得\n",
    "        date_day = date\n",
    "        print(f\"\\r{i,obs_stations['地点'].loc[i], obs_stations['地点コード'].loc[i], date_day.year, date_day.month}\", end=\"\")\n",
    "        \n",
    "        if obs_stations['区分'].loc[i] == 'S':\n",
    "            for tr in trs.findAll('tr')[4:]:\n",
    "                tds = tr.findAll('td')\n",
    "                \n",
    "                if tds[6].string == None or tds[7].string == None or tds[8].string == None:\n",
    "                    break\n",
    "                Temp_data_s['降水量'].loc[date_day] = str2float((tds[3].string).split(' ')[0])\n",
    "                Temp_data_s['平均気温'].loc[date_day] = str2float((tds[6].string).split(' ')[0])\n",
    "                Temp_data_s['最高気温'].loc[date_day] = str2float((tds[7].string).split(' ')[0])\n",
    "                Temp_data_s['最低気温'].loc[date_day] = str2float((tds[8].string).split(' ')[0])\n",
    "                Temp_data_s['降雪量'].loc[date_day] = str2float((tds[17].string).split(' ')[0])\n",
    "                Temp_data_s['積雪量'].loc[date_day] = str2float((tds[18].string).split(' ')[0])\n",
    "                Temp_data_s['平均風速'].loc[date_day] = str2float((tds[11].string).split(' ')[0])\n",
    "                date_day += relativedelta(days=1)\n",
    "        else:\n",
    "            for tr in trs.findAll('tr')[3:]:\n",
    "                tds = tr.findAll('td')\n",
    " \n",
    "                if tds[4].string == None or tds[5].string == None or tds[6].string == None:\n",
    "                    break\n",
    "                Temp_data_s['降水量'].loc[date_day] = str2float((tds[1].string).split(' ')[0])\n",
    "                Temp_data_s['平均気温'].loc[date_day] = str2float((tds[4].string).split(' ')[0])\n",
    "                Temp_data_s['最高気温'].loc[date_day] = str2float((tds[5].string).split(' ')[0])\n",
    "                Temp_data_s['最低気温'].loc[date_day] = str2float((tds[6].string).split(' ')[0])\n",
    "                Temp_data_s['降雪量'].loc[date_day] = str2float((tds[16].string).split(' ')[0])\n",
    "                Temp_data_s['積雪量'].loc[date_day] = str2float((tds[17].string).split(' ')[0])\n",
    "                Temp_data_s['平均風速'].loc[date_day] = str2float((tds[9].string).split(' ')[0])\n",
    "                date_day += relativedelta(days=1)\n",
    "\n",
    "        date += relativedelta(months=1)\n",
    "\n",
    "    Temp_data_s.to_csv(\"%d_%s.csv\"%(obs_stations['地点コード'].loc[i],obs_stations['地点'].loc[i]))"
   ]
  }
 ],
 "metadata": {
  "kernelspec": {
   "display_name": "weather",
   "language": "python",
   "name": "python3"
  },
  "language_info": {
   "codemirror_mode": {
    "name": "ipython",
    "version": 3
   },
   "file_extension": ".py",
   "mimetype": "text/x-python",
   "name": "python",
   "nbconvert_exporter": "python",
   "pygments_lexer": "ipython3",
   "version": "3.9.15"
  },
  "orig_nbformat": 4,
  "vscode": {
   "interpreter": {
    "hash": "ea7b5887e19032b9d7056dd1953d4e9f54ccd48fcdcd0e6ba288fd4e67db215f"
   }
  }
 },
 "nbformat": 4,
 "nbformat_minor": 2
}
