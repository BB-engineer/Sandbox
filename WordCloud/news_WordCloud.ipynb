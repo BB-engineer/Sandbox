{
 "cells": [
  {
   "cell_type": "code",
   "execution_count": null,
   "metadata": {},
   "outputs": [],
   "source": [
    "import feedparser\n",
    "import pandas as pd\n",
    "from janome.tokenizer import Tokenizer\n",
    "from wordcloud import WordCloud\n",
    "import re"
   ]
  },
  {
   "cell_type": "code",
   "execution_count": null,
   "metadata": {},
   "outputs": [],
   "source": [
    "FONT_PATH = \"meiryo.ttc\"\n",
    "URLs = pd.read_csv('RSS.csv', encoding=\"shift-jis\")"
   ]
  },
  {
   "cell_type": "code",
   "execution_count": null,
   "metadata": {},
   "outputs": [],
   "source": [
    "def get_word_str(text):\n",
    "    \n",
    "    t = Tokenizer()\n",
    "    token = t.tokenize(text)\n",
    "    word_list = []\n",
    " \n",
    "    for line in token:\n",
    "        tmp = re.split('\\t|,', str(line))\n",
    "        # 名詞のみ対象\n",
    "        if tmp[1] in [\"名詞\"]:\n",
    "            # さらに絞り込み\n",
    "            if tmp[2] in [\"一般\", \"固有名詞\"]:\n",
    "                word_list.append(tmp[0])\n",
    " \n",
    "    return \" \" . join(word_list)"
   ]
  },
  {
   "cell_type": "code",
   "execution_count": null,
   "metadata": {},
   "outputs": [],
   "source": [
    "word_str = \"\"\n",
    "\n",
    "for i in URLs.index:\n",
    "    RSS_URL = URLs['RSS'][i]\n",
    "\n",
    "    d = feedparser.parse(RSS_URL)\n",
    "    for entry in d.entries:\n",
    "      if hasattr(entry, 'title'):\n",
    "        word_str = word_str + \" \" + get_word_str(entry.description)\n",
    "word_str_c = word_str.split(' ')\n",
    "\n",
    "# 画像作成\n",
    "wc = WordCloud(background_color='white',font_path=FONT_PATH, max_font_size=75, width=960,height=640, max_words=80).generate(word_str)\n",
    "\n",
    "# 画像保存\n",
    "wc.to_file(\"WordCloud.png\")"
   ]
  }
 ],
 "metadata": {
  "kernelspec": {
   "display_name": "Python 3.9.12 ('news')",
   "language": "python",
   "name": "python3"
  },
  "language_info": {
   "codemirror_mode": {
    "name": "ipython",
    "version": 3
   },
   "file_extension": ".py",
   "mimetype": "text/x-python",
   "name": "python",
   "nbconvert_exporter": "python",
   "pygments_lexer": "ipython3",
   "version": "3.9.12"
  },
  "orig_nbformat": 4,
  "vscode": {
   "interpreter": {
    "hash": "44c219c047d911e58a154b1938d0b8c6db40d70ad2daec06818011dd157d3031"
   }
  }
 },
 "nbformat": 4,
 "nbformat_minor": 2
}
